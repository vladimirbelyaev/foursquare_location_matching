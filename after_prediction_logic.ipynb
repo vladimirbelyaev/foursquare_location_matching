{
 "cells": [
  {
   "cell_type": "code",
   "execution_count": null,
   "id": "8f6e9f21",
   "metadata": {},
   "outputs": [],
   "source": [
    "# The main idea of this notebook is to expand set of same point using transitivity"
   ]
  },
  {
   "cell_type": "code",
   "execution_count": 1,
   "id": "167060e7",
   "metadata": {},
   "outputs": [],
   "source": [
    "import pandas as pd"
   ]
  },
  {
   "cell_type": "code",
   "execution_count": 2,
   "id": "e75d650a",
   "metadata": {},
   "outputs": [
    {
     "data": {
      "text/plain": [
       "101"
      ]
     },
     "execution_count": 2,
     "metadata": {},
     "output_type": "execute_result"
    }
   ],
   "source": [
    "import numpy as np\n",
    "import gc\n",
    "gc.collect()"
   ]
  },
  {
   "cell_type": "code",
   "execution_count": null,
   "id": "61033bf9",
   "metadata": {},
   "outputs": [],
   "source": [
    "DIR = '/kaggle/working/train_data_githubbed'"
   ]
  },
  {
   "cell_type": "code",
   "execution_count": 3,
   "id": "a898c8d8",
   "metadata": {},
   "outputs": [],
   "source": [
    "train_df = pd.read_parquet(f'{DIR}/valid.pqt')\n",
    "val_df = pd.read_parquet(f'{DIR}/train.pqt')"
   ]
  },
  {
   "cell_type": "code",
   "execution_count": 4,
   "id": "404f124c",
   "metadata": {},
   "outputs": [],
   "source": [
    "import catboost as cb"
   ]
  },
  {
   "cell_type": "code",
   "execution_count": 5,
   "id": "57672d8d",
   "metadata": {},
   "outputs": [
    {
     "data": {
      "text/plain": [
       "0.045329371761010095"
      ]
     },
     "execution_count": 5,
     "metadata": {},
     "output_type": "execute_result"
    }
   ],
   "source": [
    "train_df.label.mean()"
   ]
  },
  {
   "cell_type": "code",
   "execution_count": 6,
   "id": "02b81923",
   "metadata": {},
   "outputs": [],
   "source": [
    "pos_examples = train_df.label.sum()\n",
    "pos_train = train_df[train_df.label == 1]\n",
    "train_df_neg_sample = train_df[train_df.label==0].sample(pos_examples)\n",
    "val_df_neg_sample = val_df[val_df.label==0].sample(pos_examples)\n",
    "\n",
    "train_df_new = pd.concat([pos_train, train_df_neg_sample])\n",
    "val_df_new = pd.concat([val_df[val_df.label == 1], val_df_neg_sample])"
   ]
  },
  {
   "cell_type": "code",
   "execution_count": 7,
   "id": "a17b43f5",
   "metadata": {},
   "outputs": [
    {
     "data": {
      "text/plain": [
       "Index(['kneighbors', 'found', 'kdist_name_0_1', 'kdist_name_4',\n",
       "       'kneighbors_name_0_1', 'kneighbors_name_4', 'found_name_0_1',\n",
       "       'found_name_4', 'kdist_country', 'kneighbors_country',\n",
       "       ...\n",
       "       'rank_name_dist', 'rank_name_dist_cos', 'rank_simple_sim',\n",
       "       'rank_address_gesh', 'rank_address_sim', 'rank_categories_sim',\n",
       "       'rank_name_sim', 'id', 'match_id', 'label'],\n",
       "      dtype='object', length=103)"
      ]
     },
     "execution_count": 7,
     "metadata": {},
     "output_type": "execute_result"
    }
   ],
   "source": [
    "train_df.columns[1:]"
   ]
  },
  {
   "cell_type": "code",
   "execution_count": 8,
   "id": "1b99ab35",
   "metadata": {},
   "outputs": [],
   "source": [
    "train_cols = [col for col in train_df.columns if col not in ('id', 'match_id', 'label')]\n",
    "cat_features = ['country']"
   ]
  },
  {
   "cell_type": "code",
   "execution_count": 9,
   "id": "5e33d669",
   "metadata": {},
   "outputs": [],
   "source": [
    "train_pool = cb.Pool(\n",
    "    train_df_new[train_cols],\n",
    "    label=train_df_new.label.values,\n",
    "    feature_names=train_cols,\n",
    "    cat_features=cat_features,\n",
    "    #group_id=train_df['id']\n",
    ")\n",
    "             \n",
    "val_pool = cb.Pool(\n",
    "    val_df_new[train_cols], \n",
    "    label=val_df_new.label.values, \n",
    "    cat_features=cat_features,\n",
    "    feature_names=train_cols,\n",
    "    #group_id=val_df['id']\n",
    ")"
   ]
  },
  {
   "cell_type": "code",
   "execution_count": 10,
   "id": "a287b19b",
   "metadata": {},
   "outputs": [],
   "source": [
    "clf_train = cb.CatBoostClassifier().load_model('/kaggle/working/cb_model_vecs_and_cats')\n",
    "clf_val = cb.CatBoostClassifier().load_model('/kaggle/working/cb_model_vecs_and_cats_inv')"
   ]
  },
  {
   "cell_type": "code",
   "execution_count": 11,
   "id": "e1eb6d15",
   "metadata": {},
   "outputs": [],
   "source": [
    "clf_train = cb.CatBoostClassifier().load_model('/kaggle/working/cb_model_vecs_and_cats_inv')\n",
    "clf_val = cb.CatBoostClassifier().load_model('/kaggle/working/cb_model_vecs_and_cats')"
   ]
  },
  {
   "cell_type": "code",
   "execution_count": 12,
   "id": "ebd57b76",
   "metadata": {},
   "outputs": [],
   "source": [
    "from sklearn.metrics import log_loss\n",
    "from sklearn.metrics import roc_auc_score\n",
    "train_df['prediction_proba'] = clf_val.predict_proba(train_df[train_cols])[:, 1]\n",
    "val_df['prediction_proba'] = clf_train.predict_proba(val_df[train_cols])[:, 1]"
   ]
  },
  {
   "cell_type": "code",
   "execution_count": 13,
   "id": "319a5b22",
   "metadata": {},
   "outputs": [
    {
     "name": "stdout",
     "output_type": "stream",
     "text": [
      "set()\n"
     ]
    }
   ],
   "source": [
    "train_tag, val_tag = 'valid', 'train'#'train', 'valid'\n",
    "DIR = '/kaggle/input/foursquare-location-matching/train_data_smart_vecs'\n",
    "id2ids_train = np.load(f'{DIR}/id2ids_{train_tag}.npy', allow_pickle=True).item()\n",
    "id2ids_val = np.load(f'{DIR}/id2ids_{val_tag}.npy', allow_pickle=True).item()\n",
    "print(set(id2ids_train) & set(id2ids_val))\n",
    "id2ids = {k: v for dct in [id2ids_train, id2ids_val] for k, v in dct.items()}"
   ]
  },
  {
   "cell_type": "code",
   "execution_count": 14,
   "id": "94be2941",
   "metadata": {},
   "outputs": [],
   "source": [
    "def evaluate(val_df):\n",
    "    preds_all = val_df.groupby('id').agg(\n",
    "        {\n",
    "            'match_id': set, \n",
    "            #'country': 'first'\n",
    "        }\n",
    "    )\n",
    "    preds_all = preds_all.rename({'match_id': 'all_match_ids'}, axis=1)\n",
    "    preds_all.head()\n",
    "    preds = val_df[val_df.prediction == 1].groupby('id').agg({'match_id': set})\n",
    "    preds['y_true'] = preds.index.map(id2ids.get)\n",
    "    preds_agg = preds.join(preds_all)\n",
    "    preds_agg['findable_ids'] = preds_agg.apply(lambda x: (x.all_match_ids ) & x.y_true, axis=1)\n",
    "    preds_agg['possible_iou'] = preds_agg.apply(lambda x: len(x.findable_ids) / len(x.y_true), axis=1)\n",
    "    preds_agg['model_iou'] = preds_agg.apply(lambda x: len(x.match_id & x.findable_ids) / len(x.findable_ids), axis=1)\n",
    "    preds_agg['iou'] = preds_agg.apply(lambda x: len(x.match_id & x.y_true) / len(x.match_id | x.y_true), axis=1)\n",
    "    preds_agg['maxtruelen'] = preds_agg.y_true.apply(len)\n",
    "    preds_agg['found_len'] = preds_agg.match_id.apply(len)\n",
    "    print(preds_agg[['iou', 'model_iou', 'possible_iou']].mean())"
   ]
  },
  {
   "cell_type": "code",
   "execution_count": 15,
   "id": "2fec3e01",
   "metadata": {},
   "outputs": [
    {
     "data": {
      "text/plain": [
       "21"
      ]
     },
     "execution_count": 15,
     "metadata": {},
     "output_type": "execute_result"
    }
   ],
   "source": [
    "import gc\n",
    "gc.collect()"
   ]
  },
  {
   "cell_type": "code",
   "execution_count": 16,
   "id": "54a52c7a",
   "metadata": {},
   "outputs": [],
   "source": [
    "train_df['prediction'] = train_df.prediction_proba > 0.53\n",
    "val_df['prediction'] = val_df.prediction_proba > 0.53\n"
   ]
  },
  {
   "cell_type": "code",
   "execution_count": null,
   "id": "37b16966",
   "metadata": {},
   "outputs": [],
   "source": []
  },
  {
   "cell_type": "code",
   "execution_count": 17,
   "id": "2e8f764e",
   "metadata": {},
   "outputs": [
    {
     "data": {
      "text/plain": [
       "(26339037, 106)"
      ]
     },
     "execution_count": 17,
     "metadata": {},
     "output_type": "execute_result"
    }
   ],
   "source": [
    "train_df.shape"
   ]
  },
  {
   "cell_type": "code",
   "execution_count": 18,
   "id": "fa4c31ea",
   "metadata": {},
   "outputs": [
    {
     "name": "stdout",
     "output_type": "stream",
     "text": [
      "iou             0.873009\n",
      "model_iou       0.921346\n",
      "possible_iou    0.979426\n",
      "dtype: float64\n"
     ]
    }
   ],
   "source": [
    "evaluate(train_df)"
   ]
  },
  {
   "cell_type": "code",
   "execution_count": 19,
   "id": "265dbd57",
   "metadata": {},
   "outputs": [
    {
     "name": "stdout",
     "output_type": "stream",
     "text": [
      "iou             0.873612\n",
      "model_iou       0.921981\n",
      "possible_iou    0.979461\n",
      "dtype: float64\n"
     ]
    }
   ],
   "source": [
    "evaluate(val_df)"
   ]
  },
  {
   "cell_type": "code",
   "execution_count": 20,
   "id": "e2f36e14",
   "metadata": {},
   "outputs": [],
   "source": [
    "from tqdm.auto import tqdm\n",
    "def evolve(curr_gid, base_gid):\n",
    "    new_gid = dict()\n",
    "    for k, v in tqdm(curr_gid.items()):\n",
    "        new_gid[k] = set(v)\n",
    "        for i in v:\n",
    "            new_gid[k] |= base_gid.get(i, set())\n",
    "    return new_gid\n",
    "\n",
    "def gen_pred_df(pred_set):\n",
    "    pred_df = pd.DataFrame(pd.Series(pred_set).explode()).reset_index()\n",
    "    pred_df.columns = ['id', 'match_id']\n",
    "    return pred_df"
   ]
  },
  {
   "cell_type": "code",
   "execution_count": 21,
   "id": "d522d054",
   "metadata": {},
   "outputs": [],
   "source": [
    "spdf = val_df[['id', 'match_id', 'prediction', 'label', 'prediction_proba']]\n",
    "\n",
    "preds_df = pd.concat([spdf, spdf.rename(columns={'id': 'match_id', 'match_id': 'id'})]).drop_duplicates(['id', 'match_id'])"
   ]
  },
  {
   "cell_type": "code",
   "execution_count": 22,
   "id": "3413a019",
   "metadata": {},
   "outputs": [],
   "source": [
    "spdf.to_parquet(f'spdf_train.pqt')"
   ]
  },
  {
   "cell_type": "code",
   "execution_count": 23,
   "id": "5334abbe",
   "metadata": {},
   "outputs": [
    {
     "data": {
      "application/vnd.jupyter.widget-view+json": {
       "model_id": "c2304a175b164cdcb4dd2009094b82a8",
       "version_major": 2,
       "version_minor": 0
      },
      "text/plain": [
       "  0%|          | 0/569401 [00:00<?, ?it/s]"
      ]
     },
     "metadata": {},
     "output_type": "display_data"
    },
    {
     "data": {
      "application/vnd.jupyter.widget-view+json": {
       "model_id": "671b4ae5127a47149c132355d08934c2",
       "version_major": 2,
       "version_minor": 0
      },
      "text/plain": [
       "  0%|          | 0/569401 [00:00<?, ?it/s]"
      ]
     },
     "metadata": {},
     "output_type": "display_data"
    },
    {
     "data": {
      "application/vnd.jupyter.widget-view+json": {
       "model_id": "b48aab169ca1450585c3d0e0c99e2d4a",
       "version_major": 2,
       "version_minor": 0
      },
      "text/plain": [
       "  0%|          | 0/569401 [00:00<?, ?it/s]"
      ]
     },
     "metadata": {},
     "output_type": "display_data"
    }
   ],
   "source": [
    "gc.collect()\n",
    "preds_df = spdf[spdf.prediction_proba > 0.6]\n",
    "pred_set_c = preds_df.groupby('id')['match_id'].apply(set).to_dict()\n",
    "pred_set = preds_df.groupby('id')['match_id'].apply(set).to_dict()\n",
    "sure_pred_set = spdf[spdf.prediction_proba > 0.7].groupby('id')['match_id'].apply(set).to_dict()\n",
    "NUM_EVOLUTIONS = 3\n",
    "for ev in range(NUM_EVOLUTIONS):\n",
    "    pred_set = evolve(pred_set, sure_pred_set)\n",
    "\n",
    "for k, v in pred_set_c.items():\n",
    "    if k in pred_set:\n",
    "        pred_set[k] -= v\n",
    "del pred_set_c"
   ]
  },
  {
   "cell_type": "code",
   "execution_count": 24,
   "id": "1f8a7d98",
   "metadata": {},
   "outputs": [],
   "source": [
    "pred_df = gen_pred_df(pred_set).dropna()\n",
    "pred_df['prediction'] = True\n",
    "pred_df['label'] = pred_df.apply(lambda x: x.match_id in id2ids.get(x.id), axis=1).astype(np.int8)"
   ]
  },
  {
   "cell_type": "code",
   "execution_count": 25,
   "id": "25b75d44",
   "metadata": {},
   "outputs": [],
   "source": [
    "new_pred_df = pd.concat([\n",
    "    spdf[['id', 'match_id', 'prediction', 'label']], \n",
    "    pred_df\n",
    "])"
   ]
  },
  {
   "cell_type": "code",
   "execution_count": 26,
   "id": "33bdf269",
   "metadata": {},
   "outputs": [
    {
     "name": "stdout",
     "output_type": "stream",
     "text": [
      "iou             0.873612\n",
      "model_iou       0.990236\n",
      "possible_iou    0.915325\n",
      "dtype: float64\n",
      "iou             0.873612\n",
      "model_iou       1.000000\n",
      "possible_iou    0.907816\n",
      "dtype: float64\n",
      "iou             0.870956\n",
      "model_iou       1.000000\n",
      "possible_iou    0.897794\n",
      "dtype: float64\n",
      "iou             0.867601\n",
      "model_iou       1.000000\n",
      "possible_iou    0.889906\n",
      "dtype: float64\n"
     ]
    }
   ],
   "source": [
    "for i in [0.47, 0.53, 0.6, 0.65]:\n",
    "    evaluate(spdf[spdf.prediction_proba > i])"
   ]
  },
  {
   "cell_type": "code",
   "execution_count": 27,
   "id": "3838af26",
   "metadata": {},
   "outputs": [
    {
     "name": "stdout",
     "output_type": "stream",
     "text": [
      "iou             0.870956\n",
      "model_iou       1.000000\n",
      "possible_iou    0.897794\n",
      "dtype: float64\n"
     ]
    }
   ],
   "source": [
    "evaluate(preds_df)"
   ]
  },
  {
   "cell_type": "code",
   "execution_count": 28,
   "id": "127d8f11",
   "metadata": {},
   "outputs": [
    {
     "name": "stdout",
     "output_type": "stream",
     "text": [
      "iou             0.878358\n",
      "model_iou       0.931564\n",
      "possible_iou    0.983045\n",
      "dtype: float64\n"
     ]
    }
   ],
   "source": [
    "evaluate(new_pred_df)"
   ]
  },
  {
   "cell_type": "code",
   "execution_count": null,
   "id": "7e96b4e6",
   "metadata": {},
   "outputs": [],
   "source": []
  }
 ],
 "metadata": {
  "kernelspec": {
   "display_name": "Python 3 (ipykernel)",
   "language": "python",
   "name": "python3"
  },
  "language_info": {
   "codemirror_mode": {
    "name": "ipython",
    "version": 3
   },
   "file_extension": ".py",
   "mimetype": "text/x-python",
   "name": "python",
   "nbconvert_exporter": "python",
   "pygments_lexer": "ipython3",
   "version": "3.7.12"
  }
 },
 "nbformat": 4,
 "nbformat_minor": 5
}
